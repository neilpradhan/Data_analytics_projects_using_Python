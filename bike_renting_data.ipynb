{
 "cells": [
  {
   "cell_type": "code",
   "execution_count": 1,
   "metadata": {
    "collapsed": true
   },
   "outputs": [],
   "source": [
    "import pandas as pd\n",
    "bikes=pd.read_csv(\"F:/education/data quest/bike sharing data/day.csv\")"
   ]
  },
  {
   "cell_type": "markdown",
   "metadata": {},
   "source": [
    " the number of days the bikes rented exceeded the threshold.\n"
   ]
  },
  {
   "cell_type": "code",
   "execution_count": 2,
   "metadata": {
    "collapsed": true
   },
   "outputs": [],
   "source": [
    "no_days_beyond_threshold=bikes[bikes[\"cnt\"]>4000].shape[0]\n",
    "total_days=bikes.shape[0]\n",
    "                        "
   ]
  },
  {
   "cell_type": "code",
   "execution_count": 3,
   "metadata": {},
   "outputs": [
    {
     "name": "stdout",
     "output_type": "stream",
     "text": [
      "0.6183310533515732\n"
     ]
    }
   ],
   "source": [
    "probability_over_4000=no_days_beyond_threshold/total_days\n",
    "print(probability_over_4000)"
   ]
  },
  {
   "cell_type": "markdown",
   "metadata": {},
   "source": [
    "the probability of 8 days out of 10 having more than 4000 riders"
   ]
  },
  {
   "cell_type": "code",
   "execution_count": 5,
   "metadata": {},
   "outputs": [
    {
     "name": "stdout",
     "output_type": "stream",
     "text": [
      "0.12093235199999997\n"
     ]
    }
   ],
   "source": [
    "p = .6\n",
    "q = .4\n",
    "import math\n",
    "def find_outcome_combinations(n,k):\n",
    "    t1=math.factorial(n)\n",
    "    t2=math.factorial(k)*math.factorial(n-k)\n",
    "    return t1/t2\n",
    "def find_combination_probability(n,m,p,q):\n",
    "    t1=p**m\n",
    "    t2=q**(n-m)\n",
    "    return t1*t2\n",
    "prob_8=find_outcome_combinations(10,8)*find_combination_probability(10,8,p,q)\n",
    "print(prob_8)"
   ]
  },
  {
   "cell_type": "markdown",
   "metadata": {},
   "source": [
    "probability of there being more than 5000 riders in a single day (using the cnt column)."
   ]
  },
  {
   "cell_type": "code",
   "execution_count": 7,
   "metadata": {},
   "outputs": [
    {
     "name": "stdout",
     "output_type": "stream",
     "text": [
      "0.3912448700410397\n"
     ]
    }
   ],
   "source": [
    "a=bikes[bikes[\"cnt\"]>5000].shape[0]\n",
    "b=bikes.shape[0]\n",
    "prob_over_5000=a/b\n",
    "print(prob_over_5000)"
   ]
  },
  {
   "cell_type": "code",
   "execution_count": 11,
   "metadata": {},
   "outputs": [
    {
     "name": "stdout",
     "output_type": "stream",
     "text": [
      "[2.1037920897011317e-13, 6.5217554780735076e-12, 9.782633217110261e-11, 9.456545443206585e-10, 6.619581810244612e-09, 3.5745741775320896e-08, 1.548982143597239e-07, 5.532079084275852e-07, 1.659623725282756e-06, 4.241260631278154e-06, 9.330773388811941e-06, 1.781329465136825e-05, 2.968882441894708e-05, 4.339135876615342e-05, 5.578888984219726e-05, 6.322740848782356e-05, 6.322740848782356e-05, 5.578888984219726e-05, 4.339135876615342e-05, 2.968882441894708e-05, 1.781329465136825e-05, 9.330773388811941e-06, 4.241260631278154e-06, 1.659623725282756e-06, 5.532079084275852e-07, 1.548982143597239e-07, 3.5745741775320896e-08, 6.619581810244612e-09, 9.456545443206585e-10, 9.782633217110261e-11, 6.5217554780735076e-12]\n"
     ]
    }
   ],
   "source": [
    "import math \n",
    "a=list(range(31))\n",
    "def combinations(n,k):\n",
    "    a=math.factorial(n)\n",
    "    b=math.factorial(k)* math.factorial(n-k)\n",
    "    return a/b\n",
    "def probability(n,k,p,q):\n",
    "    a1=p**k\n",
    "    a2=p**(n-k)\n",
    "    return a1*a2* combinations(n,k)\n",
    "probability=[probability(31,k,0.39,0.51) for k in a]\n",
    "print(probability)"
   ]
  },
  {
   "cell_type": "code",
   "execution_count": null,
   "metadata": {
    "collapsed": true
   },
   "outputs": [],
   "source": []
  }
 ],
 "metadata": {
  "kernelspec": {
   "display_name": "Python 3",
   "language": "python",
   "name": "python3"
  },
  "language_info": {
   "codemirror_mode": {
    "name": "ipython",
    "version": 3
   },
   "file_extension": ".py",
   "mimetype": "text/x-python",
   "name": "python",
   "nbconvert_exporter": "python",
   "pygments_lexer": "ipython3",
   "version": "3.6.1"
  }
 },
 "nbformat": 4,
 "nbformat_minor": 2
}
